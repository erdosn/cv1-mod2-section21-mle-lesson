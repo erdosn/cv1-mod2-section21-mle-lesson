{
 "cells": [
  {
   "cell_type": "markdown",
   "metadata": {},
   "source": [
    "### Questions\n",
    "* MLE/MAP going into priors\n",
    "* Learn about Bayesian statistics\n",
    "* Discuss Baye's theorem and how it's setup\n",
    "* What is prior probability?\n",
    "* What is posterior probability? "
   ]
  },
  {
   "cell_type": "markdown",
   "metadata": {},
   "source": [
    "### Objectives\n",
    "YWBAT\n",
    "* Solve problems involving Bayes Theorem. \n",
    "* Define MLE and how we use it in statistics. "
   ]
  },
  {
   "cell_type": "markdown",
   "metadata": {},
   "source": [
    "### Outline\n",
    "* Questions\n",
    "* Baye's Problems\n",
    "* MLE discussion\n",
    "* Wrap UP"
   ]
  },
  {
   "cell_type": "code",
   "execution_count": 2,
   "metadata": {},
   "outputs": [],
   "source": [
    "import pandas as pd\n",
    "import numpy as np\n",
    "\n",
    "import matplotlib.pyplot as plt"
   ]
  },
  {
   "cell_type": "markdown",
   "metadata": {},
   "source": [
    "![](bayes.png)"
   ]
  },
  {
   "cell_type": "markdown",
   "metadata": {},
   "source": [
    "**Problem 1**\n",
    "\n",
    " A hospital has two shifts I and II. Shift I covers 60% of patients and shift II covers 40% of the patients.   Further 2% of the patients covered by shift I are left disgruntled whereas 4% of patients covered by shift II are disgruntled. If a patient is surveyed at random, what is the probability the patient is disgruntled?"
   ]
  },
  {
   "cell_type": "code",
   "execution_count": 5,
   "metadata": {},
   "outputs": [
    {
     "name": "stdout",
     "output_type": "stream",
     "text": [
      "1.0\n",
      "0.028\n"
     ]
    }
   ],
   "source": [
    "# P(Disgruntled|I) + P(Disgruntled|II) -> missing information for the actual probability\n",
    "# P(Disg|I) -> Probability of being disgruntled given that you are in the first shift\n",
    "0.60 * 0.02 # this equals the probability that you're in the first shift and disgruntled\n",
    "0.60 * 0.02 # the total patients (proportionally) that are disgruntled in shift 1\n",
    "pd1 = 0.02\n",
    "pd2 = 0.04\n",
    "\n",
    "# if we take our tree and add everything do we get 1?\n",
    "# the total probability needs to equal 1.0 because these are all the events\n",
    "\n",
    "print(0.60*0.98 + 0.60*0.02 + 0.40*0.96 + 0.40*0.04)\n",
    "\n",
    "print(0.60*0.02 +  0.40*0.04) # 3% prob that a patient is disgruntled given they're chosen at random"
   ]
  },
  {
   "cell_type": "code",
   "execution_count": 6,
   "metadata": {},
   "outputs": [
    {
     "data": {
      "text/plain": [
       "0.42857142857142855"
      ]
     },
     "execution_count": 6,
     "metadata": {},
     "output_type": "execute_result"
    }
   ],
   "source": [
    "# What is the probability that a patient is from shift I given they're disgruntled. \n",
    "# P(I|D) = P(D|I) * P(I) / P(D) = \n",
    "(0.02*0.60)/0.028"
   ]
  },
  {
   "cell_type": "markdown",
   "metadata": {},
   "source": [
    "**Problem 2**\n",
    "\n",
    "There are two identical urns containing respectively 6 black and 4 red balls, 2 black and 2 red balls. An urn is chosen at random and a ball is drawn from it. \n",
    "\n",
    "(i) find the probability that the ball is black \n",
    "\n",
    "(ii) if the ball is black, what is the probability that it is from the first urn?"
   ]
  },
  {
   "cell_type": "code",
   "execution_count": 7,
   "metadata": {},
   "outputs": [
    {
     "data": {
      "text/plain": [
       "0.55"
      ]
     },
     "execution_count": 7,
     "metadata": {},
     "output_type": "execute_result"
    }
   ],
   "source": [
    "# 2i\n",
    "# 6b/4r 2b/2r\n",
    "\n",
    "# P(B) = P(U1)*P(B|U1) + P(U2)*P(B|U2)\n",
    "0.5*0.60 + 0.5*0.5"
   ]
  },
  {
   "cell_type": "code",
   "execution_count": 8,
   "metadata": {},
   "outputs": [
    {
     "data": {
      "text/plain": [
       "0.5454545454545454"
      ]
     },
     "execution_count": 8,
     "metadata": {},
     "output_type": "execute_result"
    }
   ],
   "source": [
    "# 2ii\n",
    "# P(U1|B) = P(B|U1) * P(U1) / P(B)\n",
    "0.60 * 0.50 / 0.55"
   ]
  },
  {
   "cell_type": "markdown",
   "metadata": {},
   "source": [
    "**Problem 3**\n",
    "\n",
    "Jerin is getting married tomorrow, at an outdoor ceremony in the woods. In recent years there have only  25 days/yr when it actually rains, the weatherman correctly forecasts rain 90% of the time. When it doesn't rain, he incorrectly forecasts rain 10% of the time.\n",
    "\n",
    "Given weatherman predicts rain, what is the probability that it will rain on the day of Jerin's wedding?"
   ]
  },
  {
   "cell_type": "code",
   "execution_count": 10,
   "metadata": {},
   "outputs": [
    {
     "data": {
      "text/plain": [
       "0.1547945205479452"
      ]
     },
     "execution_count": 10,
     "metadata": {},
     "output_type": "execute_result"
    }
   ],
   "source": [
    "# Probability the weatherman predicts rain\n",
    "25/365 * 0.90 + 340/365 * 0.10"
   ]
  },
  {
   "cell_type": "code",
   "execution_count": 11,
   "metadata": {},
   "outputs": [
    {
     "data": {
      "text/plain": [
       "0.40800000000000003"
      ]
     },
     "execution_count": 11,
     "metadata": {},
     "output_type": "execute_result"
    }
   ],
   "source": [
    "# P(R|PR) = P(PR | R) * P(R) / P(PR) \n",
    "0.90 * 0.068 / 0.15"
   ]
  },
  {
   "cell_type": "markdown",
   "metadata": {},
   "source": [
    "### What is MLE?"
   ]
  },
  {
   "cell_type": "markdown",
   "metadata": {},
   "source": [
    "### What is MLE Used for?\n",
    "\n",
    "- Used in predictive machine learning. \n",
    "- Used to find parameters of a model. \n",
    "- Used in clustering and classification\n",
    "- Used to find parameteres of distributions\n",
    "    - What are the parameters of a normal distribution?\n",
    "        - mean and standard deviation\n",
    "    - What is the parameter for a poisson distribution?\n",
    "        - lambda - the event rate\n",
    "    - What is the parameter of an exponential distribution?\n",
    "        - lambda - growth/decay rate\n",
    "        "
   ]
  },
  {
   "cell_type": "markdown",
   "metadata": {},
   "source": [
    "### What did you learn?\n",
    "* What MLE is used for\n",
    "* Learned that tree maps are pretty dank\n",
    "* Intuition behind probability calculations\n",
    "* Correctly reading bayesian formula and terminology\n",
    "* Getting familiar using the equations\n",
    "* The recap on the distribution parameters"
   ]
  },
  {
   "cell_type": "code",
   "execution_count": null,
   "metadata": {},
   "outputs": [],
   "source": []
  }
 ],
 "metadata": {
  "kernelspec": {
   "display_name": "Python 3",
   "language": "python",
   "name": "python3"
  },
  "language_info": {
   "codemirror_mode": {
    "name": "ipython",
    "version": 3
   },
   "file_extension": ".py",
   "mimetype": "text/x-python",
   "name": "python",
   "nbconvert_exporter": "python",
   "pygments_lexer": "ipython3",
   "version": "3.7.3"
  }
 },
 "nbformat": 4,
 "nbformat_minor": 2
}
